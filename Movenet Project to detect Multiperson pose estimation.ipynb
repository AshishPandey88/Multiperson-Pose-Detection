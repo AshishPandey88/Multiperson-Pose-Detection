{
 "cells": [
  {
   "cell_type": "code",
   "execution_count": null,
   "id": "86bb43b3",
   "metadata": {},
   "outputs": [],
   "source": [
    "pip list"
   ]
  },
  {
   "cell_type": "markdown",
   "id": "268554c8",
   "metadata": {},
   "source": [
    "# Import the required packages"
   ]
  },
  {
   "cell_type": "code",
   "execution_count": 2,
   "id": "d873b7a4",
   "metadata": {},
   "outputs": [],
   "source": [
    "import tensorflow as tf\n",
    "import tensorflow_hub as hub\n",
    "import cv2\n",
    "from matplotlib import pyplot as plt\n",
    "import numpy as np"
   ]
  },
  {
   "cell_type": "markdown",
   "id": "4d91c0d0",
   "metadata": {},
   "source": [
    "# Load the Movenet Model"
   ]
  },
  {
   "cell_type": "code",
   "execution_count": 3,
   "id": "4eef2455",
   "metadata": {},
   "outputs": [],
   "source": [
    "model=hub.load('https://tfhub.dev/google/movenet/multipose/lightning/1')\n",
    "movenet=model.signatures['serving_default']"
   ]
  },
  {
   "cell_type": "markdown",
   "id": "abd582bb",
   "metadata": {},
   "source": [
    "# Standard webfeed/video capture code- Detections"
   ]
  },
  {
   "cell_type": "code",
   "execution_count": 4,
   "id": "cfc32ccd",
   "metadata": {},
   "outputs": [],
   "source": [
    "#standard webcam capture code\n",
    "cap=cv2.VideoCapture(0)\n",
    "while cap.isOpened():\n",
    "    ret,frame=cap.read()\n",
    "    cv2.imshow('Movenet Multipose',frame)\n",
    "    \n",
    "    if cv2.waitKey(10)& 0xFF==ord('q'):\n",
    "        break\n",
    "cap.release()\n",
    "cv2.destroyAllWindows()"
   ]
  },
  {
   "cell_type": "code",
   "execution_count": null,
   "id": "e81f1ea1",
   "metadata": {},
   "outputs": [],
   "source": [
    "plt.imshow(frame)"
   ]
  },
  {
   "cell_type": "code",
   "execution_count": null,
   "id": "ff8d193b",
   "metadata": {},
   "outputs": [],
   "source": [
    "##Above image is in BGR mode, we can convert it to RGB using below function\n",
    "plt.imshow(cv2.cvtColor(frame,cv2.COLOR_BGR2RGB))"
   ]
  },
  {
   "cell_type": "code",
   "execution_count": null,
   "id": "ea6cda48",
   "metadata": {},
   "outputs": [],
   "source": [
    "##Requirement for Movenet model\n",
    "#1) The height/width are both multiple of 32.\n",
    "#The height to width ratio is close (and enough) to cover the original image's aspect ratio.\n",
    "#Make the larger side to be 256 (one should adjust this based on the speed/accuracy requirements). \n",
    "      #For example, a 720p image (i.e. 720x1280 (HxW)) should be resized and padded to 160x256 image."
   ]
  },
  {
   "cell_type": "markdown",
   "id": "97cc08d6",
   "metadata": {},
   "source": [
    "# Resize the image and make Detection"
   ]
  },
  {
   "cell_type": "code",
   "execution_count": null,
   "id": "6c0a1d95",
   "metadata": {},
   "outputs": [],
   "source": [
    "cap=cv2.VideoCapture(0)\n",
    "while cap.isOpened():\n",
    "    ret,frame=cap.read()\n",
    "    \n",
    "    #Resize image\n",
    "    img=frame.copy() #making a copy of frame\n",
    "    img=tf.image.resize_with_pad(tf.expand_dims(img,axis=0),256,256)#resize multiple of 32, larger u go cud slow down\n",
    "    input_img=tf.cast(img,dtype=tf.int32)\n",
    "    \n",
    "    #Detection section\n",
    "    results=movenet(input_img)\n",
    "    print(results)\n",
    "    \n",
    "    \n",
    "    \n",
    "    cv2.imshow('Movenet Multipose',frame)\n",
    "    \n",
    "    if cv2.waitKey(10)& 0xFF==ord('q'):\n",
    "        break\n",
    "cap.release()\n",
    "cv2.destroyAllWindows()"
   ]
  },
  {
   "cell_type": "markdown",
   "id": "cc8a4865",
   "metadata": {},
   "source": [
    "# Convert the results to numpy array and reshape the image"
   ]
  },
  {
   "cell_type": "code",
   "execution_count": null,
   "id": "cea4d606",
   "metadata": {},
   "outputs": [],
   "source": [
    "#Refer the Readme document for more info\n",
    "results\n",
    "#shape(1,6,56)\n",
    "#output_0 represents one set of detections, 6 set of arrays wrapped inside 1 array, 6 here means 6 people max which the model\n",
    "#can detect.\n",
    "#56 here is keypoints or values= these represent X,Y and score coordinates (This is 3*17 coordinates=51+5 key points for bouding box)"
   ]
  },
  {
   "cell_type": "code",
   "execution_count": null,
   "id": "3fb26ea0",
   "metadata": {},
   "outputs": [],
   "source": [
    "# grab 1st 51 coordinates\n",
    "results['output_0'].numpy()[:,:,:51]\n",
    "#[:,:,:51] is basically indexing to grab from shape(1,6,56), numpy() is for array conversion\n",
    "#the values represent Y,X and score (detection confidence)"
   ]
  },
  {
   "cell_type": "code",
   "execution_count": null,
   "id": "ac3715be",
   "metadata": {},
   "outputs": [],
   "source": [
    "##reshape to get 6 people, 17 keypoints with 3 values for each keypoint\n",
    "results['output_0'].numpy()[:,:,:51].reshape((6,17,3))\n",
    "#The order of the 17 keypoint joints is: [nose, left eye, right eye, left ear, right ear, left shoulder, \n",
    "#right shoulder, left elbow, right elbow, left wrist, right wrist, left hip, right hip, left knee, right knee, \n",
    "#left ankle, right ankle]\n",
    "\n",
    "##Refer the link\n",
    "#https://tfhub.dev/google/movenet/multipose/lightning/1"
   ]
  },
  {
   "cell_type": "code",
   "execution_count": null,
   "id": "5dacad55",
   "metadata": {},
   "outputs": [],
   "source": [
    "#We will go ahead and make additions to the above code to make detections\n",
    "cap=cv2.VideoCapture(0)\n",
    "while cap.isOpened():\n",
    "    ret,frame=cap.read()\n",
    "    \n",
    "    #Resize image\n",
    "    img=frame.copy() #making a copy of frame\n",
    "    img=tf.image.resize_with_pad(tf.expand_dims(img,axis=0),256,256)#resize multiple of 32, larger u go cud slow down\n",
    "    input_img=tf.cast(img,dtype=tf.int32)\n",
    "    \n",
    "    #Detection section\n",
    "    results=movenet(input_img)\n",
    "    #Apply transformation to only have keypoints with scores\n",
    "    keypoints_with_scores=results['output_0'].numpy()[:,:,:51].reshape((6,17,3))\n",
    "    print(keypoints_with_scores)\n",
    "    \n",
    "    \n",
    "    \n",
    "    cv2.imshow('Movenet Multipose',frame)\n",
    "    \n",
    "    if cv2.waitKey(10)& 0xFF==ord('q'):\n",
    "        break\n",
    "cap.release()\n",
    "cv2.destroyAllWindows()"
   ]
  },
  {
   "cell_type": "code",
   "execution_count": null,
   "id": "c63ac5f8",
   "metadata": {},
   "outputs": [],
   "source": [
    "##To grab the normalised coordinates for 1st person\n",
    "keypoints_with_scores[0]\n",
    "##Model is able to detect with confidence scores for 1st 7 keypoints and scores are horrible for remianing. \n",
    "#Because in the webcam it was only able to see 1st half of our body"
   ]
  },
  {
   "cell_type": "markdown",
   "id": "e94ccb84",
   "metadata": {},
   "source": [
    "# Draw connections and edges"
   ]
  },
  {
   "cell_type": "code",
   "execution_count": 14,
   "id": "a45029e2",
   "metadata": {},
   "outputs": [],
   "source": [
    "#Draw Keypoints\n",
    "def draw_keypoints(frame, keypoints, confidence_threshold):\n",
    "    y, x, c = frame.shape\n",
    "    shaped = np.squeeze(np.multiply(keypoints, [y,x,1]))\n",
    "    \n",
    "    for kp in shaped:\n",
    "        ky, kx, kp_conf = kp\n",
    "        if kp_conf > confidence_threshold:\n",
    "            cv2.circle(frame, (int(kx), int(ky)), 6, (0,255,0), -1)"
   ]
  },
  {
   "cell_type": "code",
   "execution_count": 15,
   "id": "7c344178",
   "metadata": {},
   "outputs": [],
   "source": [
    "##Draw Edges= Connections between body parts\n",
    "EDGES = {\n",
    "    (0, 1): 'm',\n",
    "    (0, 2): 'c',\n",
    "    (1, 3): 'm',\n",
    "    (2, 4): 'c',\n",
    "    (0, 5): 'm',\n",
    "    (0, 6): 'c',\n",
    "    (5, 7): 'm',\n",
    "    (7, 9): 'm',\n",
    "    (6, 8): 'c',\n",
    "    (8, 10): 'c',\n",
    "    (5, 6): 'y',\n",
    "    (5, 11): 'm',\n",
    "    (6, 12): 'c',\n",
    "    (11, 12): 'y',\n",
    "    (11, 13): 'm',\n",
    "    (13, 15): 'm',\n",
    "    (12, 14): 'c',\n",
    "    (14, 16): 'c'\n",
    "}"
   ]
  },
  {
   "cell_type": "code",
   "execution_count": 16,
   "id": "2f98126b",
   "metadata": {},
   "outputs": [],
   "source": [
    "def draw_connections(frame, keypoints, edges, confidence_threshold):\n",
    "    y, x, c = frame.shape\n",
    "    shaped = np.squeeze(np.multiply(keypoints, [y,x,1]))\n",
    "    \n",
    "    for edge, color in edges.items():\n",
    "        p1, p2 = edge\n",
    "        y1, x1, c1 = shaped[p1]\n",
    "        y2, x2, c2 = shaped[p2]\n",
    "        \n",
    "        if (c1 > confidence_threshold) & (c2 > confidence_threshold):      \n",
    "            cv2.line(frame, (int(x1), int(y1)), (int(x2), int(y2)), (0,0,255), 4)"
   ]
  },
  {
   "cell_type": "code",
   "execution_count": 17,
   "id": "e7aea79a",
   "metadata": {},
   "outputs": [],
   "source": [
    "# Function to loop through each person detected and render\n",
    "def loop_through_people(frame, keypoints_with_scores, edges, confidence_threshold):\n",
    "    for person in keypoints_with_scores:\n",
    "        draw_connections(frame, person, edges, confidence_threshold)\n",
    "        draw_keypoints(frame, person, confidence_threshold)"
   ]
  },
  {
   "cell_type": "code",
   "execution_count": 21,
   "id": "9134b7a2",
   "metadata": {},
   "outputs": [],
   "source": [
    "#We will go ahead and make additions to the above code to make detections\n",
    "cap=cv2.VideoCapture('srk6.mp4')\n",
    "while cap.isOpened():\n",
    "    ret,frame=cap.read()\n",
    "    \n",
    "    #Resize image\n",
    "    img=frame.copy() #making a copy of frame\n",
    "    img=tf.image.resize_with_pad(tf.expand_dims(img,axis=0),480,640)#resize multiple of 32, larger u go cud slow down\n",
    "    input_img=tf.cast(img,dtype=tf.int32)\n",
    "    \n",
    "    #Detection section\n",
    "    results=movenet(input_img)\n",
    "    #Apply transformation to only have keypoints with scores\n",
    "    keypoints_with_scores=results['output_0'].numpy()[:,:,:51].reshape((6,17,3))\n",
    "    \n",
    "    \n",
    "    # Render keypoints \n",
    "    loop_through_people(frame, keypoints_with_scores, EDGES, 0.3)\n",
    "    \n",
    "    cv2.imshow('Movenet Multipose',frame)\n",
    "    \n",
    "    if cv2.waitKey(10)& 0xFF==ord('q'):\n",
    "        break\n",
    "cap.release()\n",
    "cv2.destroyAllWindows()"
   ]
  },
  {
   "cell_type": "code",
   "execution_count": null,
   "id": "056cce51",
   "metadata": {},
   "outputs": [],
   "source": []
  },
  {
   "cell_type": "code",
   "execution_count": null,
   "id": "4f74c51f",
   "metadata": {},
   "outputs": [],
   "source": []
  },
  {
   "cell_type": "code",
   "execution_count": null,
   "id": "767707ca",
   "metadata": {},
   "outputs": [],
   "source": []
  }
 ],
 "metadata": {
  "kernelspec": {
   "display_name": "Python 3 (ipykernel)",
   "language": "python",
   "name": "python3"
  },
  "language_info": {
   "codemirror_mode": {
    "name": "ipython",
    "version": 3
   },
   "file_extension": ".py",
   "mimetype": "text/x-python",
   "name": "python",
   "nbconvert_exporter": "python",
   "pygments_lexer": "ipython3",
   "version": "3.9.7"
  }
 },
 "nbformat": 4,
 "nbformat_minor": 5
}
